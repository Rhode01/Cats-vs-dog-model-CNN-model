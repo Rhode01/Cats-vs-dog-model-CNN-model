{
 "cells": [
  {
   "cell_type": "code",
   "execution_count": 1,
   "id": "7879832f",
   "metadata": {},
   "outputs": [],
   "source": [
    "import tensorflow as tf\n",
    "import os"
   ]
  },
  {
   "cell_type": "code",
   "execution_count": 2,
   "id": "1e19f1fc",
   "metadata": {},
   "outputs": [
    {
     "name": "stdout",
     "output_type": "stream",
     "text": [
      "Bad file found, deleting: dataset/PetImages\\Cat\\10404.jpg\n",
      "Bad file found, deleting: dataset/PetImages\\Cat\\4351.jpg\n",
      "Bad file found, deleting: dataset/PetImages\\Cat\\666.jpg\n",
      "Bad file found, deleting: dataset/PetImages\\Cat\\Thumbs.db\n",
      "Bad file found, deleting: dataset/PetImages\\Dog\\11233.jpg\n",
      "Bad file found, deleting: dataset/PetImages\\Dog\\11702.jpg\n",
      "Bad file found, deleting: dataset/PetImages\\Dog\\11912.jpg\n",
      "Bad file found, deleting: dataset/PetImages\\Dog\\2317.jpg\n",
      "Bad file found, deleting: dataset/PetImages\\Dog\\2494.jpg\n",
      "Bad file found, deleting: dataset/PetImages\\Dog\\9500.jpg\n",
      "Bad file found, deleting: dataset/PetImages\\Dog\\Thumbs.db\n"
     ]
    }
   ],
   "source": [
    "dataset_url =\"dataset/PetImages\"\n",
    "num_skipped = 0\n",
    "for folder_name in (\"Cat\", \"Dog\"):\n",
    "    folder_path = os.path.join(dataset_url, folder_name)\n",
    "    for fname in os.listdir(folder_path):\n",
    "        fpath = os.path.join(folder_path, fname)\n",
    "        try:\n",
    "            img_bytes = tf.io.read_file(fpath)\n",
    "            tf.io.decode_image(img_bytes)\n",
    "        except Exception as e:\n",
    "            print(f\"Bad file found, deleting: {fpath}\")\n",
    "            num_skipped += 1\n",
    "            os.remove(fpath)"
   ]
  },
  {
   "cell_type": "code",
   "execution_count": null,
   "id": "c8ef83ad",
   "metadata": {},
   "outputs": [],
   "source": [
    "image_size=(256,256)\n",
    "batch_size = 32"
   ]
  },
  {
   "cell_type": "code",
   "execution_count": null,
   "id": "7ce89320",
   "metadata": {},
   "outputs": [],
   "source": [
    "train_dr = tf.keras.utils.image_dataset_from_directory(\n",
    "    dataset_url,\n",
    "    subset=\"Training\",\n",
    "    seed=123,\n",
    "    validation_split=0.2,\n",
    "    image_size = image_size,\n",
    "    batch = batch_size\n",
    "\n",
    ")"
   ]
  },
  {
   "cell_type": "code",
   "execution_count": null,
   "id": "cfd0faaf",
   "metadata": {},
   "outputs": [],
   "source": [
    "validation_dr = tf.keras.utils.image_dataset_from_directory(\n",
    "    dataset_url,\n",
    "    subset=\"Validation\",\n",
    "    seed=123,\n",
    "    validation_split=0.2,\n",
    "    image_size = image_size,\n",
    "    batch = batch_size\n",
    "\n",
    ")"
   ]
  },
  {
   "cell_type": "code",
   "execution_count": null,
   "id": "769bfb21",
   "metadata": {},
   "outputs": [],
   "source": [
    "model = tf.keras.models.Sequential(\n",
    "    [\n",
    "        tf.keras.layers.Input(input=(256,256,3)),\n",
    "        tf.keras.layers.RandomZoom(0.1),\n",
    "        tf.keras.layers.RandomFlip(\"horizontal\"),\n",
    "        tf.keras.layers.RandomRotation(0.1),\n",
    "        tf.keras.layers.Rescaling(1./255),\n",
    "        tf.keras.layers.Conv2D(filters=32, kernel_size=(3,3), activation=\"relu\"),\n",
    "        tf.keras.layers.MaxPooling2D(pool_size=(2,2)),\n",
    "        tf.keras.layers.Conv2D(filters=64, kernel_size=(3,3), activation=\"relu\"),\n",
    "        tf.keras.layers.MaxPooling2D(pool_size=(2,2)),\n",
    "        tf.keras.layers.Conv2D(filters=128, kernel_size=(3,3), activation=\"relu\"),\n",
    "        tf.keras.layers.MaxPooling2D(pool_size=(2,2)),\n",
    "        tf.keras.layers.Flatten(),\n",
    "        tf.keras.layers.Dense(units=256, activation=\"relu\"),\n",
    "        tf.keras.layers.Dropout(0.2),\n",
    "        tf.keras.layers.Dense(units=128, activation=\"relu\"),\n",
    "        tf.keras.layers.Dropout(0.3),\n",
    "        tf.keras.layers.Dense(units=1, activation=\"sigmoid\")\n",
    "\n",
    "    ]\n",
    ")"
   ]
  }
 ],
 "metadata": {
  "kernelspec": {
   "display_name": ".venv",
   "language": "python",
   "name": "python3"
  },
  "language_info": {
   "codemirror_mode": {
    "name": "ipython",
    "version": 3
   },
   "file_extension": ".py",
   "mimetype": "text/x-python",
   "name": "python",
   "nbconvert_exporter": "python",
   "pygments_lexer": "ipython3",
   "version": "3.12.3"
  }
 },
 "nbformat": 4,
 "nbformat_minor": 5
}
